{
 "cells": [
  {
   "cell_type": "markdown",
   "metadata": {},
   "source": [
    "# PROMPT TEXT SUMMARISATION"
   ]
  },
  {
   "cell_type": "code",
   "execution_count": 1,
   "metadata": {},
   "outputs": [
    {
     "data": {
      "text/plain": [
       "True"
      ]
     },
     "execution_count": 1,
     "metadata": {},
     "output_type": "execute_result"
    }
   ],
   "source": [
    "import os\n",
    "from dotenv import load_dotenv\n",
    "load_dotenv()"
   ]
  },
  {
   "cell_type": "code",
   "execution_count": 2,
   "metadata": {},
   "outputs": [],
   "source": [
    "from langchain_groq import ChatGroq\n",
    "api_key=os.getenv(\"GROQ_API_KEY\")\n",
    "llm=ChatGroq(groq_api_key=api_key, model=\"llama-3.3-70b-versatile\")\n"
   ]
  },
  {
   "cell_type": "code",
   "execution_count": 3,
   "metadata": {},
   "outputs": [],
   "source": [
    "from langchain.chains import LLMChain\n",
    "from langchain import PromptTemplate\n",
    "\n",
    "summ_template=\"\"\"\n",
    "Write a summary of the this topic:\n",
    "topic:{topic}\n",
    "Translate the precise summary to {language}\n",
    "\"\"\""
   ]
  },
  {
   "cell_type": "code",
   "execution_count": 4,
   "metadata": {},
   "outputs": [
    {
     "data": {
      "text/plain": [
       "PromptTemplate(input_variables=['language', 'topic'], input_types={}, partial_variables={}, template='\\nWrite a summary of the this topic:\\ntopic:{topic}\\nTranslate the precise summary to {language}\\n')"
      ]
     },
     "execution_count": 4,
     "metadata": {},
     "output_type": "execute_result"
    }
   ],
   "source": [
    "prompt=PromptTemplate(\n",
    "    input_variables=['topic','language'],\n",
    "    template=summ_template\n",
    ")\n",
    "\n",
    "prompt"
   ]
  },
  {
   "cell_type": "code",
   "execution_count": 5,
   "metadata": {},
   "outputs": [
    {
     "name": "stdout",
     "output_type": "stream",
     "text": [
      "Artificial Intelligence (AI) is a transformative technology that enables machines to mimic human intelligence and perform tasks such as learning, reasoning, problem-solving, and decision-making. By leveraging advanced algorithms and computational power, AI systems can process vast amounts of data to identify patterns, draw insights, and make predictions. AI has become an integral part of our daily lives, driving innovations in industries such as healthcare, finance, transportation, and entertainment.  In healthcare, AI-powered systems assist in diagnosing diseases, personalizing treatment plans, and managing medical records. In finance, AI algorithms detect fraudulent activities, automate trading, and improve customer service through chatbots. Autonomous vehicles, a remarkable application of AI, use sensors and machine learning to navigate roads safely. Meanwhile, AI's role in natural language processing has revolutionized communication, enabling voice assistants, language translation, and sentiment analysis.  Despite its numerous benefits, AI also poses challenges, including ethical concerns, data privacy issues, and the potential displacement of jobs. It is crucial to implement regulations and frameworks to ensure AI is developed responsibly and inclusively. As AI continues to evolve, its potential to reshape society is immense, promising unprecedented advancements while requiring thoughtful integration to address societal needs and concerns.\n"
     ]
    }
   ],
   "source": [
    "topic=input(\"enter the text here \")\n",
    "print(topic)"
   ]
  },
  {
   "cell_type": "code",
   "execution_count": 25,
   "metadata": {},
   "outputs": [
    {
     "name": "stdout",
     "output_type": "stream",
     "text": [
      "english\n"
     ]
    }
   ],
   "source": [
    "language=input(\"enter the language\")\n",
    "print(language)"
   ]
  },
  {
   "cell_type": "code",
   "execution_count": 26,
   "metadata": {},
   "outputs": [
    {
     "data": {
      "text/plain": [
       "\"\\nWrite a summary of the this topic:\\ntopic:Artificial Intelligence (AI) is a transformative technology that enables machines to mimic human intelligence and perform tasks such as learning, reasoning, problem-solving, and decision-making. By leveraging advanced algorithms and computational power, AI systems can process vast amounts of data to identify patterns, draw insights, and make predictions. AI has become an integral part of our daily lives, driving innovations in industries such as healthcare, finance, transportation, and entertainment.  In healthcare, AI-powered systems assist in diagnosing diseases, personalizing treatment plans, and managing medical records. In finance, AI algorithms detect fraudulent activities, automate trading, and improve customer service through chatbots. Autonomous vehicles, a remarkable application of AI, use sensors and machine learning to navigate roads safely. Meanwhile, AI's role in natural language processing has revolutionized communication, enabling voice assistants, language translation, and sentiment analysis.  Despite its numerous benefits, AI also poses challenges, including ethical concerns, data privacy issues, and the potential displacement of jobs. It is crucial to implement regulations and frameworks to ensure AI is developed responsibly and inclusively. As AI continues to evolve, its potential to reshape society is immense, promising unprecedented advancements while requiring thoughtful integration to address societal needs and concerns.\\nTranslate the precise summary to english\\n\""
      ]
     },
     "execution_count": 26,
     "metadata": {},
     "output_type": "execute_result"
    }
   ],
   "source": [
    "final_prompt=prompt.format(topic=topic,language=language)\n",
    "final_prompt"
   ]
  },
  {
   "cell_type": "code",
   "execution_count": 27,
   "metadata": {},
   "outputs": [
    {
     "data": {
      "text/plain": [
       "251"
      ]
     },
     "execution_count": 27,
     "metadata": {},
     "output_type": "execute_result"
    }
   ],
   "source": [
    "llm.get_num_tokens(topic)"
   ]
  },
  {
   "cell_type": "code",
   "execution_count": 29,
   "metadata": {},
   "outputs": [
    {
     "data": {
      "text/plain": [
       "272"
      ]
     },
     "execution_count": 29,
     "metadata": {},
     "output_type": "execute_result"
    }
   ],
   "source": [
    "llm.get_num_tokens(final_prompt)"
   ]
  },
  {
   "cell_type": "code",
   "execution_count": 30,
   "metadata": {},
   "outputs": [],
   "source": [
    "llm_chain=LLMChain(llm=llm,prompt=prompt)"
   ]
  },
  {
   "cell_type": "code",
   "execution_count": 31,
   "metadata": {},
   "outputs": [
    {
     "name": "stdout",
     "output_type": "stream",
     "text": [
      "The summary is already in English. However, I can provide a rewritten version with minor adjustments for clarity and precision:\n",
      "\n",
      "Artificial Intelligence (AI) is a groundbreaking technology that empowers machines to replicate human intelligence, enabling them to learn, reason, solve problems, and make decisions. By harnessing advanced algorithms and computational power, AI systems can analyze vast amounts of data to identify patterns, gain insights, and make predictions. AI has become an integral part of daily life, driving innovation in industries such as healthcare, finance, transportation, and entertainment.\n",
      "\n",
      "In healthcare, AI-powered systems aid in disease diagnosis, personalized treatment planning, and medical record management. In finance, AI algorithms detect fraudulent activity, automate trading, and enhance customer service through chatbots. Autonomous vehicles, a notable application of AI, utilize sensors and machine learning to navigate roads safely. Additionally, AI's role in natural language processing has revolutionized communication, enabling voice assistants, language translation, and sentiment analysis.\n",
      "\n",
      "Despite its numerous benefits, AI also poses challenges, including ethical concerns, data privacy issues, and job displacement. It is essential to establish regulations and frameworks to ensure AI is developed responsibly and inclusively. As AI continues to evolve, its potential to transform society is vast, promising unprecedented advancements while requiring thoughtful integration to address societal needs and concerns.\n",
      "\n",
      "No translation was necessary, as the original text was already in English.\n"
     ]
    }
   ],
   "source": [
    "summary=llm_chain.run({'topic':topic , 'language':language})\n",
    "print(summary)"
   ]
  }
 ],
 "metadata": {
  "kernelspec": {
   "display_name": "G_venv",
   "language": "python",
   "name": "python3"
  },
  "language_info": {
   "codemirror_mode": {
    "name": "ipython",
    "version": 3
   },
   "file_extension": ".py",
   "mimetype": "text/x-python",
   "name": "python",
   "nbconvert_exporter": "python",
   "pygments_lexer": "ipython3",
   "version": "3.9.6"
  }
 },
 "nbformat": 4,
 "nbformat_minor": 2
}
